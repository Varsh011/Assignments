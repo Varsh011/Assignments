{
 "cells": [
  {
   "cell_type": "code",
   "execution_count": null,
   "id": "123c4acc",
   "metadata": {},
   "outputs": [],
   "source": [
    "1. In the below elements which of them are values or an expression? eg:- values can be integer or string and expressions will be mathematical operators.\n",
    "*\n",
    "\"hello\"\n",
    "-87.8\n",
    "-\n",
    "/\n",
    "+\n",
    "6\n",
    "\n",
    "Ans. \n",
    "hello is a value\n",
    "-8.78 is an float\n",
    "6 is a value\n",
    "*-,/,+ are all expressions."
   ]
  },
  {
   "cell_type": "code",
   "execution_count": null,
   "id": "a00f8647",
   "metadata": {},
   "outputs": [],
   "source": [
    "2. What is the difference between string and variable?\n",
    "\n",
    "Ans. String is one of the data type used to store letters, numbers, symbols etc in quotes such as '',\"\". Variables on the other hand act as a container to hold different types of data including strings etc and represent them by giving a name using (=).\n",
    "In short, string is a specific data type used to represent text, while a variable is a container used to store data, and that data can be of various types, including strings. You can assign a string to a variable, and then the variable will hold that string value until it is changed or the program ends."
   ]
  },
  {
   "cell_type": "code",
   "execution_count": null,
   "id": "fd117c5e",
   "metadata": {},
   "outputs": [],
   "source": [
    "3. Describe three different data types.\n",
    "\n",
    "Ans. 1. Integer: Integer is used to represent whole numbers without decimals or fractionals. Integers can be noth positive and negative, including zero.\n",
    "    Ex: 5,-14,26,0\n",
    "    \n",
    "    2. String: As explained earlier strings are used to represent text,characters or sentences which are found in quotes like '',\"\".\n",
    "    Ex: \"Hello\",'Ineuron is great','22345'\n",
    "    \n",
    "    3. Boolean: This data type represents binary values that are true or false. These are used for conditional expressions and decision making.\n",
    "    Ex: True, False"
   ]
  },
  {
   "cell_type": "code",
   "execution_count": null,
   "id": "0d6b0eff",
   "metadata": {},
   "outputs": [],
   "source": [
    "4. What is an expression made up of? What do all expressions do?\n",
    "\n",
    "Ans. Expressions consist of Values, Operators, Variables and Function calls that can be used in various situations. \n",
    "     These are used to compute and produce a value(result). They enable one to perform calculations, make decisions and turn data into meaningful programs.  "
   ]
  },
  {
   "cell_type": "code",
   "execution_count": null,
   "id": "e11fb7d7",
   "metadata": {},
   "outputs": [],
   "source": [
    "5. This assignment statements, like spam = 10. What is the difference between an expression and a statement?\n",
    "\n",
    "Ans. Here, Spam is the variable, = is an expression and 10 is the assigned value of spam. The expression 10 is part of the assignment statement and simply evaluates to the value 10 wherein a statement is a set of complete instruction."
   ]
  },
  {
   "cell_type": "code",
   "execution_count": 4,
   "id": "9f621277",
   "metadata": {},
   "outputs": [
    {
     "data": {
      "text/plain": [
       "23"
      ]
     },
     "execution_count": 4,
     "metadata": {},
     "output_type": "execute_result"
    }
   ],
   "source": [
    "# 6. After running the following code, what does the variable bacon contain?\n",
    "\n",
    "bacon = 22\n",
    "bacon + 1"
   ]
  },
  {
   "cell_type": "code",
   "execution_count": 5,
   "id": "59833316",
   "metadata": {},
   "outputs": [
    {
     "data": {
      "text/plain": [
       "'spamspamspam'"
      ]
     },
     "execution_count": 5,
     "metadata": {},
     "output_type": "execute_result"
    }
   ],
   "source": [
    "# 7. What should the values of the following two terms be?\n",
    "\n",
    "'spam' + 'spamspam'\n",
    "'spam' * 3"
   ]
  },
  {
   "cell_type": "code",
   "execution_count": null,
   "id": "142bf52e",
   "metadata": {},
   "outputs": [],
   "source": [
    "8. Why is eggs a valid variable name while 100 is invalid?\n",
    "\n",
    "Ans. In Python, a variable has to follow a few rules like variable must begin with a letter (a-z, A-Z) or an underscore (_) and can be followed by letters, underscores, or digits. According to that a variable can start with a letter but not a number. Hence, eggs is valid and 100 is not."
   ]
  },
  {
   "cell_type": "code",
   "execution_count": null,
   "id": "1b09cce6",
   "metadata": {},
   "outputs": [],
   "source": [
    "9. What three functions can be used to get the integer, floating-point number, or string version of a value?\n",
    "\n",
    "Ans. 1. int(): This function is used to convert a value into an integer.\n",
    "    2. float(): This function is used to convert a value into an floating-point number.\n",
    "    3. str(): This function is used to convert a value into an string.\n"
   ]
  },
  {
   "cell_type": "code",
   "execution_count": 6,
   "id": "d9c2b55e",
   "metadata": {},
   "outputs": [
    {
     "ename": "TypeError",
     "evalue": "can only concatenate str (not \"int\") to str",
     "output_type": "error",
     "traceback": [
      "\u001b[1;31m---------------------------------------------------------------------------\u001b[0m",
      "\u001b[1;31mTypeError\u001b[0m                                 Traceback (most recent call last)",
      "Cell \u001b[1;32mIn[6], line 3\u001b[0m\n\u001b[0;32m      1\u001b[0m \u001b[38;5;66;03m#10. Why does this expression cause an error? How can you fix it?\u001b[39;00m\n\u001b[1;32m----> 3\u001b[0m \u001b[38;5;124;43m'\u001b[39;49m\u001b[38;5;124;43mI have eaten \u001b[39;49m\u001b[38;5;124;43m'\u001b[39;49m\u001b[43m \u001b[49m\u001b[38;5;241;43m+\u001b[39;49m\u001b[43m \u001b[49m\u001b[38;5;241;43m99\u001b[39;49m \u001b[38;5;241m+\u001b[39m \u001b[38;5;124m'\u001b[39m\u001b[38;5;124m burritos.\u001b[39m\u001b[38;5;124m'\u001b[39m\n",
      "\u001b[1;31mTypeError\u001b[0m: can only concatenate str (not \"int\") to str"
     ]
    }
   ],
   "source": [
    "#10. Why does this expression cause an error? How can you fix it?\n",
    "\n",
    "'I have eaten ' + 99 + ' burritos.'\n"
   ]
  },
  {
   "cell_type": "code",
   "execution_count": 7,
   "id": "6cb24c46",
   "metadata": {},
   "outputs": [
    {
     "data": {
      "text/plain": [
       "'I have eaten 99 burritos.'"
      ]
     },
     "execution_count": 7,
     "metadata": {},
     "output_type": "execute_result"
    }
   ],
   "source": [
    "# To fix this issue, you need to convert the integer to a string before concatenating it with the other string.\n",
    "\n",
    "'I have eaten ' + str(99) + ' burritos.'"
   ]
  }
 ],
 "metadata": {
  "kernelspec": {
   "display_name": "Python 3 (ipykernel)",
   "language": "python",
   "name": "python3"
  },
  "language_info": {
   "codemirror_mode": {
    "name": "ipython",
    "version": 3
   },
   "file_extension": ".py",
   "mimetype": "text/x-python",
   "name": "python",
   "nbconvert_exporter": "python",
   "pygments_lexer": "ipython3",
   "version": "3.10.9"
  }
 },
 "nbformat": 4,
 "nbformat_minor": 5
}
