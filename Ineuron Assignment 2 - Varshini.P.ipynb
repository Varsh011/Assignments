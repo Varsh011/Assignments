{
 "cells": [
  {
   "cell_type": "code",
   "execution_count": 1,
   "id": "12e22b42",
   "metadata": {},
   "outputs": [
    {
     "name": "stdout",
     "output_type": "stream",
     "text": [
      "This statement will be executed because x is True.\n",
      "This statement will be executed because y is False.\n"
     ]
    }
   ],
   "source": [
    "# 1. What are the two values of the Boolean data type? How do you write them?\n",
    "\n",
    "# Ans. The two values of the Boolean data type are True and False. In Python, these values are written exactly as shown, with the first letter capitalized and the rest in lowercase.\n",
    "\n",
    "# True: Represents the Boolean value for true or \"on.\"\n",
    "# False: Represents the Boolean value for false or \"off.\"\n",
    "\n",
    "x = True\n",
    "y = False\n",
    "\n",
    "if x:\n",
    "    print(\"This statement will be executed because x is True.\")\n",
    "else:\n",
    "    print(\"This statement will not be executed.\")\n",
    "\n",
    "if not y:\n",
    "    print(\"This statement will be executed because y is False.\")\n",
    "else:\n",
    "    print(\"This statement will not be executed.\")\n"
   ]
  },
  {
   "cell_type": "code",
   "execution_count": null,
   "id": "af0886e7",
   "metadata": {},
   "outputs": [],
   "source": [
    "2. What are the three different types of Boolean operators?\n",
    "\n",
    "Ans. The 3 different types are:\n",
    "    1. Logical (and)\n",
    "    2. Logical (or)\n",
    "    3. Logical (not)"
   ]
  },
  {
   "cell_type": "code",
   "execution_count": null,
   "id": "1da4ca17",
   "metadata": {},
   "outputs": [],
   "source": [
    "3. Make a list of each Boolean operators truth tables (i.e. every possible combination of Boolean values for the operator and what it evaluate ).\n",
    "\n",
    "Ans. Sure, here are the truth tables for each Boolean operator:\n",
    "\n",
    "1. Logical AND (`and`):\n",
    "\n",
    "   True    (and)   True    |  True  \n",
    "   True    (and)   False   |  False \n",
    "   False   (and)   True    |  False \n",
    "   False   (and)   False   |  False \n",
    "\n",
    "2. Logical OR (`or`):\n",
    "\n",
    "   True    (or)   True    |  True  \n",
    "   True    (or)   False   |  True  \n",
    "   False   (or)   True    |  True  \n",
    "   False   (or)   False   |  False \n",
    "\n",
    "3. Logical NOT (`not`):\n",
    "\n",
    "  (not) True  | False  \n",
    "  (not) False | True  \n"
   ]
  },
  {
   "cell_type": "code",
   "execution_count": 5,
   "id": "b1ac0e83",
   "metadata": {},
   "outputs": [
    {
     "name": "stdout",
     "output_type": "stream",
     "text": [
      "False\n",
      "False\n",
      "True\n",
      "False\n",
      "False\n",
      "True\n"
     ]
    }
   ],
   "source": [
    "# 4. What are the values of the following expressions?\n",
    "\n",
    "# 1. (5 > 4) and (3 == 5)\n",
    "result1 = (5 > 4) and (3 == 5)\n",
    "print(result1) \n",
    "\n",
    "# 2. not (5 > 4)\n",
    "result2 = not (5 > 4)\n",
    "print(result2) \n",
    "\n",
    "# 3. (5 > 4) or (3 == 5)\n",
    "result3 = (5 > 4) or (3 == 5)\n",
    "print(result3)  \n",
    "\n",
    "# 4. not ((5 > 4) or (3 == 5))\n",
    "result4 = not ((5 > 4) or (3 == 5))\n",
    "print(result4)  \n",
    "\n",
    "# 5. (True and True) and (True == False)\n",
    "result5 = (True and True) and (True == False)\n",
    "print(result5)  \n",
    "\n",
    "# 6. (not False) or (not True)\n",
    "result6 = (not False) or (not True)\n",
    "print(result6)  \n"
   ]
  },
  {
   "cell_type": "code",
   "execution_count": null,
   "id": "d486d39c",
   "metadata": {},
   "outputs": [],
   "source": [
    "5. What are the six comparison operators?\n",
    "\n",
    "Ans. The six comparison operators in Python are:\n",
    "\n",
    "1. Equal to (==): Checks if two values are equal.\n",
    "\n",
    "2. Not equal to (!=): Checks if two values are not equal.\n",
    "\n",
    "3. Greater than (>): Checks if the left operand is greater than the right operand.\n",
    "\n",
    "4. Less than (<): Checks if the left operand is less than the right operand.\n",
    "\n",
    "5. Greater than or equal to (>=): Checks if the left operand is greater than or equal to the right operand.\n",
    "\n",
    "6. Less than or equal to (<=): Checks if the left operand is less than or equal to the right operand.\n"
   ]
  },
  {
   "cell_type": "code",
   "execution_count": null,
   "id": "72047e05",
   "metadata": {},
   "outputs": [],
   "source": [
    "6. How do you tell the difference between the equal to and assignment operators? Describe a condition and when you would use one.\n",
    "\n",
    "Ans. \n",
    "1. Equal to operator (==):\n",
    "The equal to operator is used to compare two values and check if they are equal. It returns True if the values are equal and False if they are not.\n",
    "\n",
    "2. Assignment operator (=):\n",
    "The assignment operator is used to assign a value to a variable. \n",
    "\n",
    "You use the equal to operator (==) when you want to compare two values to check if they are equal in conditional statements or expressions. On the other hand, you use the assignment operator (=) when you want to assign a value to a variable to store and manipulate data throughout your program."
   ]
  },
  {
   "cell_type": "code",
   "execution_count": 5,
   "id": "ddecd2c0",
   "metadata": {},
   "outputs": [
    {
     "name": "stdout",
     "output_type": "stream",
     "text": [
      "ham\n",
      "spam\n",
      "spam\n"
     ]
    }
   ],
   "source": [
    "# 7. Identify the three blocks in this code:\n",
    "\n",
    "spam = 0\n",
    "if spam == 10:\n",
    "print('eggs')\n",
    "if spam > 5:\n",
    "print('bacon')\n",
    "else:\n",
    "print('ham')\n",
    "print('spam')\n",
    "print('spam')\n",
    "\n",
    "Ans)\n",
    "spam = 0\n",
    "if spam == 10:\n",
    "    print('eggs')\n",
    "if spam > 5:\n",
    "    print('bacon')\n",
    "else:\n",
    "    print('ham')\n",
    "print('spam')\n",
    "print('spam')\n",
    "\n",
    "# Block under the 1st if, 2nd if and under 'else' statement."
   ]
  },
  {
   "cell_type": "code",
   "execution_count": 7,
   "id": "bdad20f7",
   "metadata": {},
   "outputs": [
    {
     "name": "stdout",
     "output_type": "stream",
     "text": [
      "Enter the value of spam: 3\n",
      "Greetings!\n"
     ]
    }
   ],
   "source": [
    "# 8. Write code that prints Hello if 1 is stored in spam, prints Howdy if 2 is stored in spam, and prints, Greetings! if anything else is stored in spam.\n",
    "\n",
    "# Ans) \n",
    "\n",
    "spam = int(input(\"Enter the value of spam: \"))\n",
    "\n",
    "if spam == 1:\n",
    "    print(\"Hello\")\n",
    "elif spam == 2:\n",
    "    print(\"Howdy\")\n",
    "else:\n",
    "    print(\"Greetings!\")\n"
   ]
  },
  {
   "cell_type": "code",
   "execution_count": null,
   "id": "e597d3d8",
   "metadata": {},
   "outputs": [],
   "source": [
    "9. If your programme is stuck in an endless loop, what keys you’ll press?\n",
    "\n",
    "Ans) \"Ctrl + C\" (hold down the Ctrl key and press the 'C' key)"
   ]
  },
  {
   "cell_type": "code",
   "execution_count": null,
   "id": "e08d7513",
   "metadata": {},
   "outputs": [],
   "source": [
    "10. How can you tell the difference between break and continue?\n",
    "\n",
    "Ans) break is used to terminate the loop altogether, while continue is used to skip the rest of the current iteration and move on to the next iteration."
   ]
  },
  {
   "cell_type": "code",
   "execution_count": null,
   "id": "08d3f870",
   "metadata": {},
   "outputs": [],
   "source": [
    "11. In a for loop, what is the difference between range(10), range(0, 10), and range(0, 10, 1)?\n",
    "\n",
    "Ans) \n",
    "1. range(10):\n",
    "This expression generates a sequence of numbers starting from 0 (inclusive) up to 10 (exclusive), with a step size of 1.\n",
    "\n",
    "2. range(0, 10):\n",
    "This expression explicitly specifies both the start and stop values for the sequence.\n",
    "\n",
    "3. range(0, 10, 1):\n",
    "This expression explicitly specifies both the start and stop values, as well as the step size for the sequence."
   ]
  },
  {
   "cell_type": "code",
   "execution_count": 9,
   "id": "52e3b4b0",
   "metadata": {},
   "outputs": [
    {
     "name": "stdout",
     "output_type": "stream",
     "text": [
      "1\n",
      "2\n",
      "3\n",
      "4\n",
      "5\n",
      "6\n",
      "7\n",
      "8\n",
      "9\n",
      "10\n",
      "1\n",
      "2\n",
      "3\n",
      "4\n",
      "5\n",
      "6\n",
      "7\n",
      "8\n",
      "9\n",
      "10\n"
     ]
    }
   ],
   "source": [
    "# 12. Write a short program that prints the numbers 1 to 10 using a for loop. Then write an equivalent program that prints the numbers 1 to 10 using a while loop.\n",
    "\n",
    "# Ans) \n",
    "\n",
    "# Using for loop\n",
    "for i in range(1, 11):\n",
    "    print(i)\n",
    "    \n",
    "    \n",
    "# Using while loop\n",
    "i = 1\n",
    "while i <= 10:\n",
    "    print(i)\n",
    "    i += 1\n",
    "\n"
   ]
  },
  {
   "cell_type": "code",
   "execution_count": null,
   "id": "5a4925c9",
   "metadata": {},
   "outputs": [],
   "source": [
    "# 13. If you had a function named bacon() inside a module named spam, how would you call it after importing spam?\n",
    "\n",
    "#Ans) # Import the spam module\n",
    "import spam\n",
    "\n",
    "# Call the bacon() function from the spam module\n",
    "spam.bacon()\n"
   ]
  }
 ],
 "metadata": {
  "kernelspec": {
   "display_name": "Python 3 (ipykernel)",
   "language": "python",
   "name": "python3"
  },
  "language_info": {
   "codemirror_mode": {
    "name": "ipython",
    "version": 3
   },
   "file_extension": ".py",
   "mimetype": "text/x-python",
   "name": "python",
   "nbconvert_exporter": "python",
   "pygments_lexer": "ipython3",
   "version": "3.10.9"
  }
 },
 "nbformat": 4,
 "nbformat_minor": 5
}
